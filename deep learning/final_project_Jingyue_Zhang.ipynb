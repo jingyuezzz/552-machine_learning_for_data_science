{
  "nbformat": 4,
  "nbformat_minor": 0,
  "metadata": {
    "colab": {
      "provenance": []
    },
    "kernelspec": {
      "name": "python3",
      "display_name": "Python 3"
    },
    "language_info": {
      "name": "python"
    },
    "gpuClass": "standard"
  },
  "cells": [
    {
      "cell_type": "code",
      "source": [
        "import pandas as pd\n",
        "import numpy as np\n",
        "import os\n",
        "import cv2\n",
        "import glob\n",
        "import matplotlib.pyplot as plt\n",
        "%matplotlib inline\n",
        "import random\n",
        "import tensorflow\n",
        "import tensorflow as tf\n",
        "from tensorflow import keras\n",
        "from tensorflow.keras import layers\n",
        "from tensorflow.keras import layers,mixed_precision\n",
        "from keras.utils import np_utils\n",
        "from sklearn.model_selection import train_test_split\n",
        "from tensorflow.keras.applications.vgg16 import VGG16\n",
        "from tensorflow.keras.optimizers import Adam\n",
        "from tensorflow.keras.callbacks import ModelCheckpoint"
      ],
      "metadata": {
        "id": "mmbidK20viPu"
      },
      "execution_count": 4,
      "outputs": []
    },
    {
      "cell_type": "code",
      "source": [
        "from google.colab import drive\n",
        "drive.mount('/content/drive')\n",
        "\n",
        "bird_classes = pd.read_excel('/content/drive/My Drive/Colab Notebooks/Data/Classes.xlsx')"
      ],
      "metadata": {
        "colab": {
          "base_uri": "https://localhost:8080/"
        },
        "id": "PXtT4RU26TM8",
        "outputId": "ebc7773c-620b-4d32-a167-8dac33fe18d5"
      },
      "execution_count": 47,
      "outputs": [
        {
          "output_type": "stream",
          "name": "stdout",
          "text": [
            "Drive already mounted at /content/drive; to attempt to forcibly remount, call drive.mount(\"/content/drive\", force_remount=True).\n"
          ]
        }
      ]
    },
    {
      "cell_type": "code",
      "source": [
        "bird_classes.columns = ['folder','class']\n",
        "inx_name = {}\n",
        "name_inx = {}\n",
        "n = 0\n",
        "for b in bird_classes['folder']:\n",
        "    inx_name[n] = b\n",
        "    name_inx[b] = n\n",
        "    n+=1"
      ],
      "metadata": {
        "id": "BCZsXAnj34HT"
      },
      "execution_count": 57,
      "outputs": []
    },
    {
      "cell_type": "code",
      "source": [
        "IMAGE_SIZE=(224,224)\n",
        "path = '/content/drive/My Drive/Colab Notebooks/Data/images'\n",
        "data_all=tf.keras.preprocessing.image_dataset_from_directory(\n",
        "    path,\n",
        "    label_mode='categorical',\n",
        "    image_size=IMAGE_SIZE\n",
        ")"
      ],
      "metadata": {
        "colab": {
          "base_uri": "https://localhost:8080/"
        },
        "id": "z6TNiLtdvdvM",
        "outputId": "e353ab9d-ca44-4558-f6ae-e0a8c354eabb"
      },
      "execution_count": 48,
      "outputs": [
        {
          "output_type": "stream",
          "name": "stdout",
          "text": [
            "Found 1176 files belonging to 20 classes.\n"
          ]
        }
      ]
    },
    {
      "cell_type": "code",
      "source": [
        "import splitfolders\n",
        "\n",
        "#### input dataset that want to split\n",
        "input_path = '/content/drive/My Drive/Colab Notebooks/Data/images/'  \n",
        "\n",
        "output_folder= '/content/drive/My Drive/Colab Notebooks/Data'\n",
        "\n",
        "splitfolders.ratio(input = input_path, output= output_folder, seed=1337, ratio = (0.7, 0.15, 0.15))"
      ],
      "metadata": {
        "colab": {
          "base_uri": "https://localhost:8080/"
        },
        "id": "TSGdIrxzeOYC",
        "outputId": "014e22cd-d9ff-4ad3-ca90-84364e58c760"
      },
      "execution_count": 49,
      "outputs": [
        {
          "output_type": "stream",
          "name": "stderr",
          "text": [
            "Copying files: 1176 files [03:24,  5.74 files/s]\n"
          ]
        }
      ]
    },
    {
      "cell_type": "code",
      "source": [
        "#VGG16\n",
        "from tensorflow.keras.preprocessing.image import ImageDataGenerator\n",
        "from tensorflow.keras.applications.vgg16 import VGG16, preprocess_input\n",
        "IMAGE_SIZE=(224,224)\n",
        "new_path = '/content/drive/My Drive/Colab Notebooks/Data/'\n",
        "train_idg = ImageDataGenerator(preprocessing_function = preprocess_input, rotation_range=20, horizontal_flip=True)\n",
        "train_ds = train_idg.flow_from_directory(\n",
        "directory = new_path+\"train\",\n",
        "target_size = IMAGE_SIZE,\n",
        "class_mode='categorical',\n",
        "shuffle = True,batch_size= 5 )\n",
        "#test\n",
        "test_idg = ImageDataGenerator(preprocessing_function = preprocess_input, rotation_range=20, horizontal_flip=True)\n",
        "test_ds = test_idg.flow_from_directory(\n",
        "directory = new_path+\"test\",\n",
        "target_size = IMAGE_SIZE,\n",
        "class_mode='categorical',\n",
        "shuffle = False,batch_size= 5)\n",
        "#val\n",
        "val_idg = ImageDataGenerator(preprocessing_function = preprocess_input, rotation_range=20, horizontal_flip=True)\n",
        "val_ds = val_idg.flow_from_directory(\n",
        "directory = new_path+\"val\",\n",
        "target_size = IMAGE_SIZE,\n",
        "class_mode='categorical',\n",
        "shuffle = False,batch_size= 5 )"
      ],
      "metadata": {
        "colab": {
          "base_uri": "https://localhost:8080/"
        },
        "id": "lX-Zfb8w7OJP",
        "outputId": "c1bdf3ea-49b6-4810-9379-ad173ac945ea"
      },
      "execution_count": 14,
      "outputs": [
        {
          "output_type": "stream",
          "name": "stdout",
          "text": [
            "Found 820 images belonging to 20 classes.\n",
            "Found 185 images belonging to 20 classes.\n",
            "Found 171 images belonging to 20 classes.\n"
          ]
        }
      ]
    },
    {
      "cell_type": "code",
      "source": [
        "#adding layers\n",
        "model_VGG = VGG16(include_top=False, weights='imagenet', input_shape=(224, 224, 3))\n",
        "model_VGG.trainable = False\n",
        "layer0 = tf.keras.layers.Flatten(name='flatten')(model_VGG.output)\n",
        "norm = layers.BatchNormalization()(layer0)\n",
        "layer1 = tf.keras.layers.Dense(1028, activation='relu')(norm)\n",
        "dropout = layers.Dropout(rate=0.2)(layer1)\n",
        "lastlayer = tf.keras.layers.Dense(20, activation='softmax')(dropout)"
      ],
      "metadata": {
        "id": "NPJF90KwN-7k"
      },
      "execution_count": 126,
      "outputs": []
    },
    {
      "cell_type": "code",
      "source": [
        "new_model = tf.keras.Model(inputs=model_VGG.input, outputs=lastlayer)\n",
        "new_model.compile(\n",
        "    optimizer=Adam(0.00005),\n",
        "    loss='categorical_crossentropy',\n",
        "    metrics=['accuracy']\n",
        ")\n",
        " \n",
        "# print the new_model summary\n",
        "new_model.summary()"
      ],
      "metadata": {
        "colab": {
          "base_uri": "https://localhost:8080/"
        },
        "id": "pGNvT4N1brx3",
        "outputId": "663b60ba-5c3b-4059-c0ec-294550b0dc23"
      },
      "execution_count": 127,
      "outputs": [
        {
          "output_type": "stream",
          "name": "stdout",
          "text": [
            "Model: \"model_14\"\n",
            "_________________________________________________________________\n",
            " Layer (type)                Output Shape              Param #   \n",
            "=================================================================\n",
            " input_15 (InputLayer)       [(None, 224, 224, 3)]     0         \n",
            "                                                                 \n",
            " block1_conv1 (Conv2D)       (None, 224, 224, 64)      1792      \n",
            "                                                                 \n",
            " block1_conv2 (Conv2D)       (None, 224, 224, 64)      36928     \n",
            "                                                                 \n",
            " block1_pool (MaxPooling2D)  (None, 112, 112, 64)      0         \n",
            "                                                                 \n",
            " block2_conv1 (Conv2D)       (None, 112, 112, 128)     73856     \n",
            "                                                                 \n",
            " block2_conv2 (Conv2D)       (None, 112, 112, 128)     147584    \n",
            "                                                                 \n",
            " block2_pool (MaxPooling2D)  (None, 56, 56, 128)       0         \n",
            "                                                                 \n",
            " block3_conv1 (Conv2D)       (None, 56, 56, 256)       295168    \n",
            "                                                                 \n",
            " block3_conv2 (Conv2D)       (None, 56, 56, 256)       590080    \n",
            "                                                                 \n",
            " block3_conv3 (Conv2D)       (None, 56, 56, 256)       590080    \n",
            "                                                                 \n",
            " block3_pool (MaxPooling2D)  (None, 28, 28, 256)       0         \n",
            "                                                                 \n",
            " block4_conv1 (Conv2D)       (None, 28, 28, 512)       1180160   \n",
            "                                                                 \n",
            " block4_conv2 (Conv2D)       (None, 28, 28, 512)       2359808   \n",
            "                                                                 \n",
            " block4_conv3 (Conv2D)       (None, 28, 28, 512)       2359808   \n",
            "                                                                 \n",
            " block4_pool (MaxPooling2D)  (None, 14, 14, 512)       0         \n",
            "                                                                 \n",
            " block5_conv1 (Conv2D)       (None, 14, 14, 512)       2359808   \n",
            "                                                                 \n",
            " block5_conv2 (Conv2D)       (None, 14, 14, 512)       2359808   \n",
            "                                                                 \n",
            " block5_conv3 (Conv2D)       (None, 14, 14, 512)       2359808   \n",
            "                                                                 \n",
            " block5_pool (MaxPooling2D)  (None, 7, 7, 512)         0         \n",
            "                                                                 \n",
            " flatten (Flatten)           (None, 25088)             0         \n",
            "                                                                 \n",
            " batch_normalization_13 (Bat  (None, 25088)            100352    \n",
            " chNormalization)                                                \n",
            "                                                                 \n",
            " dense_27 (Dense)            (None, 1028)              25791492  \n",
            "                                                                 \n",
            " dropout_13 (Dropout)        (None, 1028)              0         \n",
            "                                                                 \n",
            " dense_28 (Dense)            (None, 20)                20580     \n",
            "                                                                 \n",
            "=================================================================\n",
            "Total params: 40,627,112\n",
            "Trainable params: 25,862,248\n",
            "Non-trainable params: 14,764,864\n",
            "_________________________________________________________________\n"
          ]
        }
      ]
    },
    {
      "cell_type": "code",
      "source": [
        "from tensorflow.keras.callbacks import EarlyStopping\n",
        "callbacks = [EarlyStopping(monitor='val_accuracy', patience=3, restore_best_weights=True)]\n",
        "history_VGG = new_model.fit(train_ds,epochs=50,validation_data=val_ds,callbacks=callbacks)"
      ],
      "metadata": {
        "colab": {
          "base_uri": "https://localhost:8080/"
        },
        "id": "kkJD0gy_gfhe",
        "outputId": "9869a800-f80d-49b1-fcc9-c00c2c698f03"
      },
      "execution_count": 128,
      "outputs": [
        {
          "output_type": "stream",
          "name": "stdout",
          "text": [
            "Epoch 1/50\n",
            "164/164 [==============================] - 18s 105ms/step - loss: 2.2422 - accuracy: 0.3280 - val_loss: 1.4619 - val_accuracy: 0.5614\n",
            "Epoch 2/50\n",
            "164/164 [==============================] - 17s 104ms/step - loss: 0.8309 - accuracy: 0.7671 - val_loss: 1.2235 - val_accuracy: 0.6257\n",
            "Epoch 3/50\n",
            "164/164 [==============================] - 17s 106ms/step - loss: 0.5004 - accuracy: 0.8732 - val_loss: 1.2064 - val_accuracy: 0.6433\n",
            "Epoch 4/50\n",
            "164/164 [==============================] - 17s 104ms/step - loss: 0.4109 - accuracy: 0.8951 - val_loss: 1.2732 - val_accuracy: 0.6433\n",
            "Epoch 5/50\n",
            "164/164 [==============================] - 18s 110ms/step - loss: 0.2433 - accuracy: 0.9439 - val_loss: 1.0368 - val_accuracy: 0.6959\n",
            "Epoch 6/50\n",
            "164/164 [==============================] - 17s 102ms/step - loss: 0.1724 - accuracy: 0.9671 - val_loss: 1.2030 - val_accuracy: 0.6550\n",
            "Epoch 7/50\n",
            "164/164 [==============================] - 17s 102ms/step - loss: 0.1516 - accuracy: 0.9610 - val_loss: 1.0695 - val_accuracy: 0.6667\n",
            "Epoch 8/50\n",
            "164/164 [==============================] - 17s 103ms/step - loss: 0.1459 - accuracy: 0.9646 - val_loss: 0.8612 - val_accuracy: 0.7368\n",
            "Epoch 9/50\n",
            "164/164 [==============================] - 17s 102ms/step - loss: 0.1113 - accuracy: 0.9768 - val_loss: 1.1160 - val_accuracy: 0.7076\n",
            "Epoch 10/50\n",
            "164/164 [==============================] - 17s 103ms/step - loss: 0.0786 - accuracy: 0.9829 - val_loss: 1.0724 - val_accuracy: 0.7368\n",
            "Epoch 11/50\n",
            "164/164 [==============================] - 17s 104ms/step - loss: 0.0846 - accuracy: 0.9829 - val_loss: 0.9819 - val_accuracy: 0.7661\n",
            "Epoch 12/50\n",
            "164/164 [==============================] - 17s 104ms/step - loss: 0.0653 - accuracy: 0.9854 - val_loss: 1.1453 - val_accuracy: 0.7018\n",
            "Epoch 13/50\n",
            "164/164 [==============================] - 17s 102ms/step - loss: 0.0618 - accuracy: 0.9841 - val_loss: 1.1953 - val_accuracy: 0.7076\n",
            "Epoch 14/50\n",
            "164/164 [==============================] - 17s 104ms/step - loss: 0.0527 - accuracy: 0.9902 - val_loss: 1.0180 - val_accuracy: 0.7719\n",
            "Epoch 15/50\n",
            "164/164 [==============================] - 17s 103ms/step - loss: 0.0531 - accuracy: 0.9878 - val_loss: 1.1210 - val_accuracy: 0.7251\n",
            "Epoch 16/50\n",
            "164/164 [==============================] - 18s 111ms/step - loss: 0.0363 - accuracy: 0.9902 - val_loss: 1.3014 - val_accuracy: 0.7251\n",
            "Epoch 17/50\n",
            "164/164 [==============================] - 17s 104ms/step - loss: 0.0404 - accuracy: 0.9927 - val_loss: 1.1196 - val_accuracy: 0.7427\n"
          ]
        }
      ]
    },
    {
      "cell_type": "code",
      "source": [
        "#print result\n",
        "acc = history_VGG.history['accuracy']\n",
        "val_acc = history_VGG.history['val_accuracy']\n",
        "loss = history_VGG.history['loss']\n",
        "val_loss = history_VGG.history['val_loss']\n",
        "epochs = range(len(acc))\n",
        "plt.plot(epochs, acc, 'r', label='Training accuracy')\n",
        "plt.plot(epochs, val_acc, 'b', label='Validation accuracy')\n",
        "plt.title('Training and validation accuracy')\n",
        "plt.legend(loc=0)\n",
        "plt.figure()\n",
        "plt.show()"
      ],
      "metadata": {
        "colab": {
          "base_uri": "https://localhost:8080/",
          "height": 298
        },
        "id": "4A7-ONVRhric",
        "outputId": "7acc86ee-273f-4132-915d-dcf37477c985"
      },
      "execution_count": 134,
      "outputs": [
        {
          "output_type": "display_data",
          "data": {
            "text/plain": [
              "<Figure size 432x288 with 1 Axes>"
            ],
            "image/png": "[encoded data removed]"
          },
          "metadata": {
            "needs_background": "light"
          }
        },
        {
          "output_type": "display_data",
          "data": {
            "text/plain": [
              "<Figure size 432x288 with 0 Axes>"
            ]
          },
          "metadata": {}
        }
      ]
    },
    {
      "cell_type": "code",
      "source": [
        "plt.plot(epochs, loss, 'r', label='Training loss')\n",
        "plt.plot(epochs, val_loss, 'b', label='Validation loss')\n",
        "plt.title('Training and validation loss')\n",
        "plt.legend(loc=0)\n",
        "plt.figure()\n",
        "plt.show()"
      ],
      "metadata": {
        "colab": {
          "base_uri": "https://localhost:8080/",
          "height": 298
        },
        "id": "pSNbpq22zLFY",
        "outputId": "dcf0d8cf-129a-4f7d-abba-720e7f5ed302"
      },
      "execution_count": 135,
      "outputs": [
        {
          "output_type": "display_data",
          "data": {
            "text/plain": [
              "<Figure size 432x288 with 1 Axes>"
            ],
            "image/png": "[encoded data removed]"
          },
          "metadata": {
            "needs_background": "light"
          }
        },
        {
          "output_type": "display_data",
          "data": {
            "text/plain": [
              "<Figure size 432x288 with 0 Axes>"
            ]
          },
          "metadata": {}
        }
      ]
    },
    {
      "cell_type": "code",
      "source": [
        "from sklearn.metrics import classification_report\n",
        "test_d = test_ds.classes\n",
        "Y_pred = np.argmax(new_model.predict(test_ds),axis=1)\n",
        "print('Confusion Matrix')\n",
        "print(classification_report(test_d,Y_pred,target_names=bird_classes['folder']))"
      ],
      "metadata": {
        "colab": {
          "base_uri": "https://localhost:8080/"
        },
        "id": "FmEpU0a11nKk",
        "outputId": "0c7476d9-e9e2-45ef-9957-e1d1651853c6"
      },
      "execution_count": 139,
      "outputs": [
        {
          "output_type": "stream",
          "name": "stdout",
          "text": [
            "37/37 [==============================] - 3s 87ms/step\n",
            "Confusion Matrix\n",
            "                               precision    recall  f1-score   support\n",
            "\n",
            "           005.Crested_Auklet       0.71      0.62      0.67         8\n",
            "                 013.Bobolink       0.86      0.67      0.75         9\n",
            "           015.Lazuli_Bunting       1.00      0.80      0.89        10\n",
            "         023.Brandt_Cormorant       1.00      0.60      0.75        10\n",
            "   040.Olive_sided_Flycatcher       0.50      0.56      0.53         9\n",
            "041.Scissor_tailed_Flycatcher       0.89      0.89      0.89         9\n",
            "         067.Anna_Hummingbird       0.89      0.89      0.89         9\n",
            "          072.Pomarine_Jaeger       1.00      0.78      0.88         9\n",
            "          076.Dark_eyed_Junco       0.75      0.67      0.71         9\n",
            "          081.Pied_Kingfisher       0.73      0.89      0.80         9\n",
            "        082.Ringed_Kingfisher       0.67      0.89      0.76         9\n",
            "             086.Pacific_Loon       0.75      1.00      0.86         9\n",
            "                 099.Ovenbird       0.64      0.78      0.70         9\n",
            "           104.American_Pipit       0.70      0.78      0.74         9\n",
            "         127.Savannah_Sparrow       0.62      0.56      0.59         9\n",
            "             135.Bank_Swallow       0.56      0.50      0.53        10\n",
            "               141.Artic_Tern       1.00      1.00      1.00        10\n",
            "           149.Brown_Thrasher       0.70      0.70      0.70        10\n",
            "         156.White_eyed_Vireo       0.40      0.44      0.42         9\n",
            "         168.Kentucky_Warbler       0.55      0.60      0.57        10\n",
            "\n",
            "                     accuracy                           0.73       185\n",
            "                    macro avg       0.75      0.73      0.73       185\n",
            "                 weighted avg       0.75      0.73      0.73       185\n",
            "\n"
          ]
        }
      ]
    },
    {
      "cell_type": "code",
      "source": [
        "#EfficientNetB0\n",
        "train_ds = tf.keras.preprocessing.image_dataset_from_directory(\n",
        "directory = new_path+\"train\",\n",
        "image_size = IMAGE_SIZE,\n",
        "label_mode='categorical',\n",
        "shuffle = True,batch_size= 5 )\n",
        "test_ds = tf.keras.preprocessing.image_dataset_from_directory(\n",
        "directory = new_path+\"test\",\n",
        "image_size = IMAGE_SIZE,\n",
        "label_mode='categorical',\n",
        "shuffle = False,batch_size= 5 )\n",
        "val_ds = tf.keras.preprocessing.image_dataset_from_directory(\n",
        "directory = new_path+\"val\",\n",
        "image_size = IMAGE_SIZE,\n",
        "label_mode='categorical',\n",
        "shuffle = False,batch_size= 5 )\n",
        "\n",
        "train_data=train_ds.prefetch(buffer_size=tf.data.AUTOTUNE)\n",
        "val_data=val_ds.prefetch(buffer_size=tf.data.AUTOTUNE)\n",
        "test_data=test_ds.prefetch(buffer_size=tf.data.AUTOTUNE)"
      ],
      "metadata": {
        "colab": {
          "base_uri": "https://localhost:8080/"
        },
        "id": "HM7gaPwtgHhc",
        "outputId": "a6976317-0f7a-4dcf-c4a6-15141d1ba265"
      },
      "execution_count": 67,
      "outputs": [
        {
          "output_type": "stream",
          "name": "stdout",
          "text": [
            "Found 820 files belonging to 20 classes.\n",
            "Found 185 files belonging to 20 classes.\n",
            "Found 171 files belonging to 20 classes.\n"
          ]
        }
      ]
    },
    {
      "cell_type": "code",
      "source": [
        "data_augmentation=keras.Sequential([\n",
        "    layers.RandomFlip('horizontal'),\n",
        "    layers.RandomRotation(0.2,fill_mode='nearest'),\n",
        "    # layers.Rescaling(scale=1.0/255)\n",
        "],name='Data_Augmentation_Layer')"
      ],
      "metadata": {
        "id": "fBEp5rPeiJwI"
      },
      "execution_count": 68,
      "outputs": []
    },
    {
      "cell_type": "code",
      "source": [
        "inputs=layers.Input(shape=(224,224,3),name='input_layer')\n",
        "base_model=keras.applications.efficientnet.EfficientNetB0(include_top=False)\n",
        "base_model.trainable=False\n",
        "x=data_augmentation(inputs)\n",
        "x=base_model(x,training=False)\n",
        "x=layers.GlobalAveragePooling2D(name='Global_Average_Pool_2D')(x)\n",
        "norm = layers.BatchNormalization()(x)\n",
        "layer1 = tf.keras.layers.Dense(1280, activation='relu')(norm)\n",
        "dropout = layers.Dropout(rate=0.2)(layer1)\n",
        "outputs=layers.Dense(20,activation='softmax',dtype=tf.float32,name=\"Output_layer\")(dropout)\n",
        "\n",
        "model=keras.Model(inputs,outputs,name=\"model\")\n",
        "model.compile(\n",
        "    loss=keras.losses.categorical_crossentropy,\n",
        "    optimizer=keras.optimizers.Adam(),\n",
        "    metrics=['accuracy']\n",
        ")\n",
        "history_ENB = model.fit(train_data,epochs=50,validation_data=val_data,callbacks=callbacks)"
      ],
      "metadata": {
        "colab": {
          "base_uri": "https://localhost:8080/"
        },
        "id": "pCGrb6R5nKnB",
        "outputId": "da0fb45e-1de7-426c-8d55-eb2d42c0dfc8"
      },
      "execution_count": 70,
      "outputs": [
        {
          "output_type": "stream",
          "name": "stdout",
          "text": [
            "Epoch 1/50\n",
            "164/164 [==============================] - 80s 445ms/step - loss: 1.7264 - accuracy: 0.6232 - val_loss: 0.6451 - val_accuracy: 0.8187\n",
            "Epoch 2/50\n",
            "164/164 [==============================] - 69s 420ms/step - loss: 1.1556 - accuracy: 0.7402 - val_loss: 1.3318 - val_accuracy: 0.7895\n",
            "Epoch 3/50\n",
            "164/164 [==============================] - 71s 429ms/step - loss: 0.7597 - accuracy: 0.8512 - val_loss: 1.3202 - val_accuracy: 0.8187\n",
            "Epoch 4/50\n",
            "164/164 [==============================] - 69s 421ms/step - loss: 0.8572 - accuracy: 0.8415 - val_loss: 1.2329 - val_accuracy: 0.8538\n",
            "Epoch 5/50\n",
            "164/164 [==============================] - 69s 422ms/step - loss: 0.5932 - accuracy: 0.8780 - val_loss: 1.5303 - val_accuracy: 0.8363\n",
            "Epoch 6/50\n",
            "164/164 [==============================] - 69s 421ms/step - loss: 0.7537 - accuracy: 0.8744 - val_loss: 1.7935 - val_accuracy: 0.8012\n",
            "Epoch 7/50\n",
            "164/164 [==============================] - 71s 432ms/step - loss: 0.6796 - accuracy: 0.8927 - val_loss: 1.9064 - val_accuracy: 0.7836\n"
          ]
        }
      ]
    },
    {
      "cell_type": "code",
      "source": [
        "#print result\n",
        "acc = history_ENB.history['accuracy']\n",
        "val_acc = history_ENB.history['val_accuracy']\n",
        "loss = history_ENB.history['loss']\n",
        "val_loss = history_ENB.history['val_loss']\n",
        "epochs = range(len(acc))\n",
        "plt.plot(epochs, acc, 'r', label='Training accuracy')\n",
        "plt.plot(epochs, val_acc, 'b', label='Validation accuracy')\n",
        "plt.title('Training and validation accuracy')\n",
        "plt.legend(loc=0)\n",
        "plt.figure()\n",
        "plt.show()"
      ],
      "metadata": {
        "colab": {
          "base_uri": "https://localhost:8080/",
          "height": 298
        },
        "id": "Yg5qGbuowZn1",
        "outputId": "2a693512-9d0b-44e1-d5b6-d4c02485d208"
      },
      "execution_count": 72,
      "outputs": [
        {
          "output_type": "display_data",
          "data": {
            "text/plain": [
              "<Figure size 432x288 with 1 Axes>"
            ],
            "image/png": "[encoded data removed]"
          },
          "metadata": {
            "needs_background": "light"
          }
        },
        {
          "output_type": "display_data",
          "data": {
            "text/plain": [
              "<Figure size 432x288 with 0 Axes>"
            ]
          },
          "metadata": {}
        }
      ]
    },
    {
      "cell_type": "code",
      "source": [
        "plt.plot(epochs, loss, 'r', label='Training loss')\n",
        "plt.plot(epochs, val_loss, 'b', label='Validation loss')\n",
        "plt.title('Training and validation loss')\n",
        "plt.legend(loc=0)\n",
        "plt.figure()\n",
        "plt.show()"
      ],
      "metadata": {
        "colab": {
          "base_uri": "https://localhost:8080/",
          "height": 298
        },
        "id": "vrUIXm3Rwl_1",
        "outputId": "116f12bc-e21e-4edb-8360-79132d55a404"
      },
      "execution_count": 73,
      "outputs": [
        {
          "output_type": "display_data",
          "data": {
            "text/plain": [
              "<Figure size 432x288 with 1 Axes>"
            ],
            "image/png": "[encoded data removed]"
          },
          "metadata": {
            "needs_background": "light"
          }
        },
        {
          "output_type": "display_data",
          "data": {
            "text/plain": [
              "<Figure size 432x288 with 0 Axes>"
            ]
          },
          "metadata": {}
        }
      ]
    },
    {
      "cell_type": "code",
      "source": [
        "from sklearn.metrics import classification_report\n",
        "test_d = test_ds.unbatch()\n",
        "test_labels = list(test_d.map(lambda x, y: y))\n",
        "y_test_arg=np.argmax(test_labels,axis=1)\n",
        "Y_pred = np.argmax(model.predict(test_ds),axis=1)\n",
        "print('Confusion Matrix')\n",
        "print(classification_report(y_test_arg,Y_pred,target_names=bird_classes['folder']))"
      ],
      "metadata": {
        "colab": {
          "base_uri": "https://localhost:8080/"
        },
        "id": "AitHDtCX0hXv",
        "outputId": "eb83c054-129c-4891-ed1f-5500bea7b65d"
      },
      "execution_count": 71,
      "outputs": [
        {
          "output_type": "stream",
          "name": "stdout",
          "text": [
            "37/37 [==============================] - 13s 317ms/step\n",
            "Confusion Matrix\n",
            "                               precision    recall  f1-score   support\n",
            "\n",
            "           005.Crested_Auklet       1.00      0.75      0.86         8\n",
            "                 013.Bobolink       1.00      1.00      1.00         9\n",
            "           015.Lazuli_Bunting       1.00      0.80      0.89        10\n",
            "         023.Brandt_Cormorant       0.71      1.00      0.83        10\n",
            "   040.Olive_sided_Flycatcher       1.00      0.67      0.80         9\n",
            "041.Scissor_tailed_Flycatcher       0.73      0.89      0.80         9\n",
            "         067.Anna_Hummingbird       1.00      1.00      1.00         9\n",
            "          072.Pomarine_Jaeger       0.90      1.00      0.95         9\n",
            "          076.Dark_eyed_Junco       0.89      0.89      0.89         9\n",
            "          081.Pied_Kingfisher       1.00      0.78      0.88         9\n",
            "        082.Ringed_Kingfisher       0.90      1.00      0.95         9\n",
            "             086.Pacific_Loon       1.00      0.89      0.94         9\n",
            "                 099.Ovenbird       1.00      0.89      0.94         9\n",
            "           104.American_Pipit       0.75      1.00      0.86         9\n",
            "         127.Savannah_Sparrow       1.00      0.89      0.94         9\n",
            "             135.Bank_Swallow       0.78      0.70      0.74        10\n",
            "               141.Artic_Tern       1.00      1.00      1.00        10\n",
            "           149.Brown_Thrasher       0.91      1.00      0.95        10\n",
            "         156.White_eyed_Vireo       0.69      1.00      0.82         9\n",
            "         168.Kentucky_Warbler       1.00      0.70      0.82        10\n",
            "\n",
            "                     accuracy                           0.89       185\n",
            "                    macro avg       0.91      0.89      0.89       185\n",
            "                 weighted avg       0.91      0.89      0.89       185\n",
            "\n"
          ]
        }
      ]
    }
  ]
}