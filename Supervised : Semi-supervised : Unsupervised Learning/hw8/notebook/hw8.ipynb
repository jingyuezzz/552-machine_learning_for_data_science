{
 "cells": [
  {
   "cell_type": "markdown",
   "id": "1be22442",
   "metadata": {},
   "source": [
    "Homework8 Name: Jingyue Zhang Student ID:7529916982 Github username：jingyuezzz"
   ]
  },
  {
   "cell_type": "code",
   "execution_count": 192,
   "id": "1efaa2e3",
   "metadata": {},
   "outputs": [],
   "source": [
    "from sklearn.model_selection import train_test_split\n",
    "from sklearn.preprocessing import MinMaxScaler\n",
    "from sklearn.metrics import accuracy_score\n",
    "from sklearn.metrics import precision_score\n",
    "from sklearn.metrics import recall_score\n",
    "from sklearn.metrics import f1_score\n",
    "import pandas as pd\n",
    "from sklearn.svm import SVC\n",
    "from sklearn.model_selection import GridSearchCV\n",
    "from sklearn.svm import LinearSVC\n",
    "from sklearn import preprocessing\n",
    "from sklearn import metrics\n",
    "import warnings\n",
    "import matplotlib.pyplot as plt\n",
    "from sklearn.metrics import confusion_matrix\n",
    "warnings.filterwarnings('ignore')\n",
    "from sklearn.exceptions import ConvergenceWarning\n",
    "import os\n",
    "os.environ['PYTHONWARNINGS'] = 'ignore'\n",
    "import numpy as np\n",
    "from sklearn.cluster import KMeans\n",
    "import seaborn as sns; sns.set()\n",
    "import matplotlib.pyplot as plt\n"
   ]
  },
  {
   "cell_type": "code",
   "execution_count": 3,
   "id": "12594c8b",
   "metadata": {},
   "outputs": [],
   "source": [
    "data = pd.read_csv('../data/wdbc.data', header = None, delimiter=',')\n",
    "columns = ['ID', 'class']\n",
    "for i in range(1, 31):\n",
    "    columns.append('f'+str(i))\n",
    "data.columns = columns\n",
    "data = data.iloc[:,1:]\n",
    "data['class'] = data['class'].replace(['B','M'], [0,1])\n",
    "data_B = data.loc[data['class'] == 0]\n",
    "data_M = data.loc[data['class'] == 1]"
   ]
  },
  {
   "cell_type": "markdown",
   "id": "7b2465ce",
   "metadata": {},
   "source": [
    "(b)i"
   ]
  },
  {
   "cell_type": "code",
   "execution_count": 4,
   "id": "bd9cefad",
   "metadata": {},
   "outputs": [],
   "source": [
    "def score(y, y_pred):\n",
    "    accuracy = accuracy_score(y,y_pred)\n",
    "    precision = precision_score(y, y_pred, average='binary')\n",
    "    recall = recall_score(y, y_pred, average='binary')\n",
    "    fscore = f1_score(y, y_pred, average='binary')\n",
    "    fpr, tpr, thresholds = metrics.roc_curve(y, y_pred)\n",
    "    AUC = metrics.auc(fpr, tpr)\n",
    "    result = pd.Series([accuracy,precision,recall,fscore,AUC])\n",
    "    return(result)"
   ]
  },
  {
   "cell_type": "code",
   "execution_count": 5,
   "id": "6ec8fe59",
   "metadata": {},
   "outputs": [],
   "source": [
    "def plot_matrix(y,y_pred,test_or_train):\n",
    "                fpr, tpr, thresholds = metrics.roc_curve(y_true = y,y_score=y_pred,pos_label=1)\n",
    "                plt.plot(fpr, tpr)\n",
    "                plt.title(test_or_train+\" ROC Curve\")\n",
    "                plt.show()\n",
    "                confusion_matrix_training = confusion_matrix(y_true = y, y_pred = y_pred)\n",
    "                print('Confusion Matrix:')\n",
    "                print(confusion_matrix_training)"
   ]
  },
  {
   "cell_type": "code",
   "execution_count": 6,
   "id": "3df99cc0",
   "metadata": {},
   "outputs": [
    {
     "data": {
      "image/png": "[encoded data removed]",
      "text/plain": [
       "<Figure size 432x288 with 1 Axes>"
      ]
     },
     "metadata": {
      "needs_background": "light"
     },
     "output_type": "display_data"
    },
    {
     "name": "stdout",
     "output_type": "stream",
     "text": [
      "Confusion Matrix:\n",
      "[[283   2]\n",
      " [  6 163]]\n"
     ]
    },
    {
     "data": {
      "image/png": "[encoded data removed]",
      "text/plain": [
       "<Figure size 432x288 with 1 Axes>"
      ]
     },
     "metadata": {
      "needs_background": "light"
     },
     "output_type": "display_data"
    },
    {
     "name": "stdout",
     "output_type": "stream",
     "text": [
      "Confusion Matrix:\n",
      "[[71  1]\n",
      " [ 1 42]]\n"
     ]
    }
   ],
   "source": [
    "c_range = [10**c for c in np.arange(-3,2, dtype=float)]\n",
    "train_res_list = []\n",
    "test_res_list = []\n",
    "for M in range(0,30):\n",
    "            train_M, test_M = train_test_split(data_M, test_size=0.2)\n",
    "            train_B, test_B = train_test_split(data_B, test_size=0.2)\n",
    "            data_train = train_M.append(train_B).reset_index(drop=True)\n",
    "            data_test = test_M.append(test_B).reset_index(drop=True)\n",
    "            x_train = data_train.iloc[:, 1:]\n",
    "            y_train = data_train.iloc[:, 0]\n",
    "            x_test = data_test.iloc[:, 1:]\n",
    "            y_test = data_test.iloc[:, 0]\n",
    "            x_train_norm = pd.DataFrame(MinMaxScaler().fit_transform(x_train))\n",
    "            x_train_norm.columns = x_train.columns\n",
    "            x_test_norm = pd.DataFrame(MinMaxScaler().fit_transform(x_test))\n",
    "            x_test_norm.columns = x_test.columns\n",
    "\n",
    "            clf = LinearSVC(penalty='l1',dual=False)\n",
    "            params = {'C':c_range}\n",
    "            cv = GridSearchCV(clf, params, n_jobs=-1, cv=5)\n",
    "            cv.fit(x_train_norm, y_train)\n",
    "            y_pred_train= cv.predict(x_train_norm)\n",
    "            y_pred_test= cv.predict(x_test_norm)\n",
    "            train_result = score(y_train, y_pred_train)\n",
    "            test_result = score(y_test, y_pred_test)\n",
    "            train_res_list.append(train_result)\n",
    "            test_res_list.append(test_result)\n",
    "            if M==1:\n",
    "                plot_matrix(y_train, y_pred_train,'train')\n",
    "                plot_matrix(y_test, y_pred_test,'test')\n",
    "                \n",
    "           \n",
    "            "
   ]
  },
  {
   "cell_type": "code",
   "execution_count": 7,
   "id": "8548ef44",
   "metadata": {},
   "outputs": [
    {
     "name": "stdout",
     "output_type": "stream",
     "text": [
      "train result:\n",
      "accuracy     0.984508\n",
      "precision    0.991935\n",
      "recall       0.966272\n",
      "fscore       0.978916\n",
      "AUC          0.980797\n",
      "dtype: float64\n",
      "test result:\n",
      "accuracy     0.893623\n",
      "precision    0.812571\n",
      "recall       0.986047\n",
      "fscore       0.883032\n",
      "AUC          0.912236\n",
      "dtype: float64\n"
     ]
    }
   ],
   "source": [
    "train_result = pd.concat(train_res_list, axis=1).T\n",
    "test_result = pd.concat(test_res_list, axis=1).T\n",
    "result_column = ['accuracy', 'precision', 'recall', 'fscore', 'AUC']\n",
    "train_result.columns = result_column \n",
    "test_result.columns = result_column \n",
    "\n",
    "train_result = train_result.mean(axis=0)\n",
    "print(\"train result:\")\n",
    "print(train_result)\n",
    "test_result = test_result.mean(axis=0)\n",
    "print(\"test result:\")\n",
    "print(test_result)\n"
   ]
  },
  {
   "cell_type": "markdown",
   "id": "843a9662",
   "metadata": {},
   "source": [
    "(b)ii"
   ]
  },
  {
   "cell_type": "markdown",
   "id": "16065e07",
   "metadata": {},
   "source": [
    "A"
   ]
  },
  {
   "cell_type": "code",
   "execution_count": 8,
   "id": "f57aecc7",
   "metadata": {},
   "outputs": [],
   "source": [
    "train_M, test_M = train_test_split(data_M, test_size=0.2)\n",
    "train_B, test_B = train_test_split(data_B, test_size=0.2)\n",
    "data_train = train_M.append(train_B).reset_index(drop=True)\n",
    "data_test = test_M.append(test_B).reset_index(drop=True)\n",
    "\n",
    "M_labeled, M_unlabeled = train_test_split(train_M, test_size=0.5)\n",
    "B_labeled, B_unlabeled = train_test_split(train_B, test_size=0.5)\n",
    "labeled = M_labeled.append(B_labeled).reset_index(drop=True)\n",
    "unlabeled = M_unlabeled.append(B_unlabeled).reset_index(drop=True)"
   ]
  },
  {
   "cell_type": "code",
   "execution_count": 9,
   "id": "c24f91b5",
   "metadata": {},
   "outputs": [
    {
     "data": {
      "text/plain": [
       "1.0"
      ]
     },
     "execution_count": 9,
     "metadata": {},
     "output_type": "execute_result"
    }
   ],
   "source": [
    "x_labeled = labeled.iloc[:, 1:]\n",
    "y_labeled = labeled.iloc[:, 0]\n",
    "x_labeled_norm = pd.DataFrame(MinMaxScaler().fit_transform(x_labeled))\n",
    "clf = LinearSVC(penalty='l1', dual=False)\n",
    "params = {'C':c_range}\n",
    "cv = GridSearchCV(clf, params, n_jobs=-1, cv=5)\n",
    "cv.fit(x_labeled_norm, y_labeled)\n",
    "best_c = cv.best_params_['C']\n",
    "best_c"
   ]
  },
  {
   "cell_type": "markdown",
   "id": "696d7def",
   "metadata": {},
   "source": [
    "B"
   ]
  },
  {
   "cell_type": "code",
   "execution_count": 37,
   "id": "da974cf4",
   "metadata": {},
   "outputs": [
    {
     "data": {
      "image/png": "[encoded data removed]",
      "text/plain": [
       "<Figure size 432x288 with 1 Axes>"
      ]
     },
     "metadata": {
      "needs_background": "light"
     },
     "output_type": "display_data"
    },
    {
     "name": "stdout",
     "output_type": "stream",
     "text": [
      "Confusion Matrix:\n",
      "[[294   1]\n",
      " [  4 155]]\n"
     ]
    },
    {
     "data": {
      "image/png": "[encoded data removed]",
      "text/plain": [
       "<Figure size 432x288 with 1 Axes>"
      ]
     },
     "metadata": {
      "needs_background": "light"
     },
     "output_type": "display_data"
    },
    {
     "name": "stdout",
     "output_type": "stream",
     "text": [
      "Confusion Matrix:\n",
      "[[71  1]\n",
      " [ 0 43]]\n"
     ]
    }
   ],
   "source": [
    "train_res_list = []\n",
    "test_res_list = []\n",
    "for M in range(0,30):\n",
    "    train_M, test_M = train_test_split(data_M, test_size=0.2)\n",
    "    train_B, test_B = train_test_split(data_B, test_size=0.2)\n",
    "    data_train = train_M.append(train_B).reset_index(drop=True)\n",
    "    data_test = test_M.append(test_B).reset_index(drop=True)\n",
    "    M_labeled, M_unlabeled = train_test_split(train_M, test_size=0.5)\n",
    "    B_labeled, B_unlabeled = train_test_split(train_B, test_size=0.5)\n",
    "    labeled = M_labeled.append(B_labeled).reset_index(drop=True)\n",
    "    unlabeled = M_unlabeled.append(B_unlabeled).reset_index(drop=True)\n",
    "    x_labeled = labeled.iloc[:, 1:]\n",
    "    y_labeled = labeled.iloc[:, 0]\n",
    "    x_unlabeled = unlabeled.iloc[:, 1:]\n",
    "    y_unlabeled = unlabeled.iloc[:, 0]\n",
    "    x_test = data_test.iloc[:, 1:]\n",
    "    y_test = data_test.iloc[:, 0]\n",
    "    x_test_norm = pd.DataFrame(MinMaxScaler().fit_transform(x_test))\n",
    "    x_labeled_norm = pd.DataFrame(MinMaxScaler().fit_transform(x_labeled))\n",
    "    x_unlabeled_norm = pd.DataFrame(MinMaxScaler().fit_transform(x_unlabeled))\n",
    "    clf = LinearSVC(penalty='l1', dual=False)\n",
    "    params = {'C':c_range}\n",
    "    cv = GridSearchCV(clf, params, n_jobs=-1, cv=5)\n",
    "    cv.fit(x_labeled_norm, y_labeled)\n",
    "       \n",
    "    while len(x_unlabeled_norm)>0:\n",
    "        y_unlabeled_pred = cv.predict(x_unlabeled_norm)\n",
    "        distance = cv.decision_function(x_unlabeled_norm)\n",
    "        dis_abs = abs(distance)\n",
    "        x = list(range(len(abs(distance))))\n",
    "        dis_dict = {k: v for k, v in zip(x,dis_abs)}\n",
    "        farthest = list(dis_dict.keys())[list(dis_dict.values()).index(max(dis_dict.values()))]\n",
    "        y_new = y_unlabeled_pred[farthest]\n",
    "        X_new = x_unlabeled_norm.iloc[farthest, :]\n",
    "        x_labeled_norm= x_labeled_norm.append(X_new).reset_index(drop = True)\n",
    "        y_labeled = y_labeled.append(pd.Series(y_new)).reset_index(drop = True)\n",
    "        x_unlabeled_norm= x_unlabeled_norm.drop(index=[farthest]).reset_index(drop = True)\n",
    "        y_unlabeled = y_unlabeled.drop(index=[farthest]).reset_index(drop = True)\n",
    "\n",
    "    cv.fit(x_labeled_norm,y_labeled)\n",
    "    y_pred_train= cv.predict(x_labeled_norm)\n",
    "    y_pred_test= cv.predict(x_test_norm)\n",
    "    train_result = score(y_labeled, y_pred_train)\n",
    "    test_result = score(y_test, y_pred_test)\n",
    "    train_res_list.append(train_result)\n",
    "    test_res_list.append(test_result)\n",
    "    if M==1:\n",
    "                plot_matrix(y_labeled, y_pred_train,'train')\n",
    "                plot_matrix(y_test, y_pred_test,'test')\n",
    "           \n",
    "            "
   ]
  },
  {
   "cell_type": "code",
   "execution_count": 38,
   "id": "b90b6b7a",
   "metadata": {},
   "outputs": [
    {
     "name": "stdout",
     "output_type": "stream",
     "text": [
      "train result:\n",
      "accuracy     0.990015\n",
      "precision    0.994482\n",
      "recall       0.978660\n",
      "fscore       0.986473\n",
      "AUC          0.987662\n",
      "dtype: float64\n",
      "test result:\n",
      "accuracy     0.920290\n",
      "precision    0.883569\n",
      "recall       0.948062\n",
      "fscore       0.905286\n",
      "AUC          0.925883\n",
      "dtype: float64\n"
     ]
    }
   ],
   "source": [
    "train_result = pd.concat(train_res_list, axis=1).T\n",
    "test_result = pd.concat(test_res_list, axis=1).T\n",
    "result_column = ['accuracy', 'precision', 'recall', 'fscore', 'AUC']\n",
    "train_result.columns = result_column \n",
    "test_result.columns = result_column \n",
    "\n",
    "train_result = train_result.mean(axis=0)\n",
    "print(\"train result:\")\n",
    "print(train_result)\n",
    "test_result = test_result.mean(axis=0)\n",
    "print(\"test result:\")\n",
    "print(test_result)"
   ]
  },
  {
   "cell_type": "markdown",
   "id": "bae8a864",
   "metadata": {},
   "source": [
    "iii A"
   ]
  },
  {
   "cell_type": "markdown",
   "id": "fb20408c",
   "metadata": {},
   "source": [
    " we need to run kmeans randomly to avoid local minimum. I randomizing the initialization parameters and running the for many times to avoid."
   ]
  },
  {
   "cell_type": "code",
   "execution_count": 91,
   "id": "9b4f0e14",
   "metadata": {},
   "outputs": [],
   "source": [
    "    train_M, test_M = train_test_split(data_M, test_size=0.2)\n",
    "    train_B, test_B = train_test_split(data_B, test_size=0.2)\n",
    "    data_train = train_M.append(train_B).reset_index(drop=True)\n",
    "    data_test = test_M.append(test_B).reset_index(drop=True)\n",
    "    x_train = data_train.iloc[:, 1:]\n",
    "    y_train = data_train.iloc[:, 0]\n",
    "    x_test = data_test.iloc[:, 1:]\n",
    "    y_test = data_test.iloc[:, 0]\n",
    "    x_train_norm = pd.DataFrame(MinMaxScaler().fit_transform(x_train))\n",
    "    x_test_norm = pd.DataFrame(MinMaxScaler().fit_transform(x_test))\n",
    "    for i in range(0,30):\n",
    "        kmeans_model = KMeans(n_clusters=2,init = 'random').fit(x_train)"
   ]
  },
  {
   "cell_type": "markdown",
   "id": "1139c316",
   "metadata": {},
   "source": [
    "B"
   ]
  },
  {
   "cell_type": "code",
   "execution_count": 95,
   "id": "c7243d26",
   "metadata": {},
   "outputs": [
    {
     "data": {
      "image/png": "[encoded data removed]",
      "text/plain": [
       "<Figure size 432x288 with 1 Axes>"
      ]
     },
     "metadata": {
      "needs_background": "light"
     },
     "output_type": "display_data"
    },
    {
     "name": "stdout",
     "output_type": "stream",
     "text": [
      "Confusion Matrix:\n",
      "[[280   5]\n",
      " [ 29 140]]\n"
     ]
    },
    {
     "data": {
      "image/png": "[encoded data removed]",
      "text/plain": [
       "<Figure size 432x288 with 1 Axes>"
      ]
     },
     "metadata": {
      "needs_background": "light"
     },
     "output_type": "display_data"
    },
    {
     "name": "stdout",
     "output_type": "stream",
     "text": [
      "Confusion Matrix:\n",
      "[[72  0]\n",
      " [ 9 34]]\n"
     ]
    }
   ],
   "source": [
    "kmeans_score = []\n",
    "test_score = []\n",
    "for M in range(0,30):\n",
    "    train_M, test_M = train_test_split(data_M, test_size=0.2)\n",
    "    train_B, test_B = train_test_split(data_B, test_size=0.2)\n",
    "    data_train = train_M.append(train_B).reset_index(drop=True)\n",
    "    data_test = test_M.append(test_B).reset_index(drop=True)\n",
    "    x_train = data_train.iloc[:, 1:]\n",
    "    y_train = data_train.iloc[:, 0]\n",
    "    x_test = data_test.iloc[:, 1:]\n",
    "    y_test = data_test.iloc[:, 0]\n",
    "    x_train_norm = pd.DataFrame(MinMaxScaler().fit_transform(x_train))\n",
    "    x_test_norm = pd.DataFrame(MinMaxScaler().fit_transform(x_test))\n",
    "    \n",
    "    kmeans = KMeans(n_clusters = 2, init = 'random').fit(x_train_norm)\n",
    "    center_distance = kmeans.transform(x_train_norm)\n",
    "    center_distance = pd.DataFrame(data=center_distance, index=x_train_norm.index)\n",
    "    close_0 = center_distance.sort_values(0).index.values[0:30]\n",
    "    close_1 = center_distance.sort_values(1).index.values[0:30]\n",
    "    close_0_true_label  = y_train.iloc[close_0].mode()\n",
    "    close_1_true_label  = y_train.iloc[close_1].mode()\n",
    "    kmeans_labels = pd.DataFrame(data = kmeans.labels_)\n",
    "    kmeans_labels = kmeans_labels.replace(to_replace = 0, value = close_0_true_label[0])\n",
    "    kmeans_labels = kmeans_labels.replace(to_replace = 1, value = close_1_true_label[0])\n",
    "    kmeans_result = score(y_train,kmeans_labels)\n",
    "    kmeans_score.append(kmeans_result)\n",
    "    if M==1:\n",
    "                plot_matrix(y_train,kmeans_labels,'kmeans-train')\n",
    "    #test\n",
    "    test_labels = pd.DataFrame(data =kmeans.predict(x_test_norm))\n",
    "    test_labels = test_labels.replace(to_replace = 0, value = close_0_true_label[0])\n",
    "    test_labels = test_labels.replace(to_replace = 1, value = close_1_true_label[0])\n",
    "    test_result = score(y_test,test_labels)\n",
    "    test_score.append(test_result)\n",
    "    if M==1:\n",
    "                plot_matrix(y_test,test_labels,'kmeans-test')\n"
   ]
  },
  {
   "cell_type": "code",
   "execution_count": 97,
   "id": "a52de738",
   "metadata": {},
   "outputs": [
    {
     "name": "stdout",
     "output_type": "stream",
     "text": [
      "kmeans result:\n",
      "accuracy     0.785977\n",
      "precision    0.506580\n",
      "recall       0.448915\n",
      "fscore       0.475922\n",
      "AUC          0.717382\n",
      "dtype: float64\n"
     ]
    }
   ],
   "source": [
    "kmeans_result =pd.concat(kmeans_score, axis=1).T\n",
    "result_column = ['accuracy', 'precision', 'recall', 'fscore', 'AUC']\n",
    "kmeans_result.columns = result_column \n",
    "kmeans_result = kmeans_result.mean(axis=0)\n",
    "print(\"kmeans result:\")\n",
    "print(kmeans_result)"
   ]
  },
  {
   "cell_type": "markdown",
   "id": "9f18a44f",
   "metadata": {},
   "source": [
    "C"
   ]
  },
  {
   "cell_type": "code",
   "execution_count": 98,
   "id": "3980bb7e",
   "metadata": {},
   "outputs": [
    {
     "name": "stdout",
     "output_type": "stream",
     "text": [
      "kmeans test result:\n",
      "accuracy     0.784638\n",
      "precision    0.479102\n",
      "recall       0.480620\n",
      "fscore       0.479005\n",
      "AUC          0.723412\n",
      "dtype: float64\n"
     ]
    }
   ],
   "source": [
    "test_result =pd.concat(test_score, axis=1).T\n",
    "result_column = ['accuracy', 'precision', 'recall', 'fscore', 'AUC']\n",
    "test_result.columns = result_column \n",
    "test_result = test_result.mean(axis=0)\n",
    "print(\"kmeans test result:\")\n",
    "print(test_result)"
   ]
  },
  {
   "cell_type": "code",
   "execution_count": 104,
   "id": "6433d573",
   "metadata": {},
   "outputs": [
    {
     "data": {
      "image/png": "[encoded data removed]",
      "text/plain": [
       "<Figure size 432x288 with 1 Axes>"
      ]
     },
     "metadata": {
      "needs_background": "light"
     },
     "output_type": "display_data"
    },
    {
     "name": "stdout",
     "output_type": "stream",
     "text": [
      "Confusion Matrix:\n",
      "[[282   3]\n",
      " [ 67 102]]\n"
     ]
    }
   ],
   "source": [
    "from sklearn.cluster import SpectralClustering\n",
    "sc_score = []\n",
    "test_score = []\n",
    "for M in range(0,30):\n",
    "    train_M, test_M = train_test_split(data_M, test_size=0.2)\n",
    "    train_B, test_B = train_test_split(data_B, test_size=0.2)\n",
    "    data_train = train_M.append(train_B).reset_index(drop=True)\n",
    "    data_test = test_M.append(test_B).reset_index(drop=True)\n",
    "    x_train = data_train.iloc[:, 1:]\n",
    "    y_train = data_train.iloc[:, 0]\n",
    "    x_test = data_test.iloc[:, 1:]\n",
    "    y_test = data_test.iloc[:, 0]\n",
    "    x_train_norm = pd.DataFrame(MinMaxScaler().fit_transform(x_train))\n",
    "    x_test_norm = pd.DataFrame(MinMaxScaler().fit_transform(x_test))\n",
    "    \n",
    "    train_labels= SpectralClustering(n_clusters=2, gamma=1, affinity='rbf').fit_predict(x_train_norm)\n",
    "    train_labels = pd.DataFrame(data=train_labels, index=x_train_norm.index)\n",
    "    train_label_0 = train_labels[train_labels[0] == 0]\n",
    "    train_label_1 = train_labels[train_labels[0] == 1]\n",
    "    train_label_0index = train_label_0.index.values\n",
    "    train_label_1index = train_label_1.index.values\n",
    "    \n",
    "    y_label_0 = y_train.loc[train_label_0index]\n",
    "    y_label_1 = y_train.loc[train_label_1index]\n",
    "    true_label_0  = y_label_0.mode()\n",
    "    true_label_1  = y_label_1.mode()\n",
    "    train_labels = train_labels.replace(to_replace = 0, value = true_label_0[0])\n",
    "    train_labels = train_labels.replace(to_replace = 1, value = true_label_1[0])\n",
    "    sc_result = score(y_train,train_labels)\n",
    "    sc_score.append(sc_result)\n",
    "    if M==1:\n",
    "                plot_matrix(y_train,train_labels,'SpectralClustering')\n",
    "  \n",
    "    \n",
    "\n",
    "\n",
    "\n",
    "\n"
   ]
  },
  {
   "cell_type": "code",
   "execution_count": 105,
   "id": "4c0fb369",
   "metadata": {},
   "outputs": [
    {
     "name": "stdout",
     "output_type": "stream",
     "text": [
      "sc test result:\n",
      "accuracy     0.836711\n",
      "precision    0.883114\n",
      "recall       0.572387\n",
      "fscore       0.694056\n",
      "AUC          0.782918\n",
      "dtype: float64\n"
     ]
    }
   ],
   "source": [
    "sc_result =pd.concat(sc_score, axis=1).T\n",
    "result_column = ['accuracy', 'precision', 'recall', 'fscore', 'AUC']\n",
    "sc_result.columns = result_column \n",
    "sc_result = sc_result.mean(axis=0)\n",
    "print(\"sc test result:\")\n",
    "print(sc_result)"
   ]
  },
  {
   "cell_type": "markdown",
   "id": "9639dc16",
   "metadata": {},
   "source": [
    "v."
   ]
  },
  {
   "cell_type": "markdown",
   "id": "d4bd0c27",
   "metadata": {},
   "source": [
    "According to the accuracy and precision scores from previous tasks, supervised learning is better than that from semi-supervised learning,semi-supervised learning shows better result than unsupervised learning. The accuracy from unsupervised learning is lower than 0.8, I think it underperforms.\n"
   ]
  },
  {
   "cell_type": "markdown",
   "id": "6b969694",
   "metadata": {},
   "source": [
    "2"
   ]
  },
  {
   "cell_type": "code",
   "execution_count": 122,
   "id": "4330d40a",
   "metadata": {},
   "outputs": [],
   "source": [
    "data = pd.read_csv('../data/data_banknote_authentication.txt', header = None)\n",
    "data_y = data.iloc[:,4]\n",
    "data_x = data.drop(columns = 4)\n",
    "train_data, test_data = train_test_split(data, test_size = 472)\n",
    "y_train = train_data.iloc[:,4]\n",
    "x_train = train_data.drop(columns = 4)\n",
    "y_test = test_data.iloc[:,4]\n",
    "x_test = test_data.drop(columns = 4)\n",
    "\n"
   ]
  },
  {
   "cell_type": "markdown",
   "id": "79bf0cbf",
   "metadata": {},
   "source": [
    "b(i)"
   ]
  },
  {
   "cell_type": "code",
   "execution_count": 152,
   "id": "d0dd95af",
   "metadata": {},
   "outputs": [],
   "source": [
    "train_x, test_x, train_y, test_y = train_test_split(data_x, data_y, test_size = 0.344)\n",
    "errors_list = []\n",
    "for i in range (0,50):\n",
    "    train_x_2 = train_x\n",
    "    testerrors = []\n",
    "    sample_train_x = train_x_2.sample(0)\n",
    "    while len(train_x_2) > 0:\n",
    "        newsample = train_x_2.sample(10)\n",
    "        sample_train_x = pd.concat([sample_train_x, newsample])\n",
    "        sample_train_y = train_y.loc[sample_train_x.index]\n",
    "        traindf2 = train_x_2.drop(index = newsample.index)\n",
    "        svm_model = LinearSVC(penalty = 'l1', dual = False, max_iter = 10000)\n",
    "        svm_model.fit(sample_train_x, sample_train_y)\n",
    "        params = {'C':c_range}\n",
    "        gridsearch = GridSearchCV(svm_model, param_grid = params, n_jobs = -1, cv=5)\n",
    "        gridsearch.fit(sample_train_x, sample_train_y)\n",
    "        bestsvm = gridsearch.best_estimator_\n",
    "        testerror = bestsvm.score(test_x, test_y)\n",
    "        testerrors.append(testerror)\n",
    "\n",
    "    errors_list.append(testerrors)"
   ]
  },
  {
   "cell_type": "code",
   "execution_count": 177,
   "id": "342f70bd",
   "metadata": {},
   "outputs": [],
   "source": [
    "for list in errors_list:\n",
    "    for i in range(len(list)):\n",
    "          list[i] = 1-list[i]"
   ]
  },
  {
   "cell_type": "markdown",
   "id": "1756d579",
   "metadata": {},
   "source": [
    "b(ii)"
   ]
  },
  {
   "cell_type": "code",
   "execution_count": 190,
   "id": "16d44de8",
   "metadata": {},
   "outputs": [],
   "source": [
    "errors_list_active = []\n",
    "\n",
    "for i in range(0,50):\n",
    "    train_x_2 = train_x\n",
    "    testerrors2 = []\n",
    "    length_2 = []\n",
    "    sample_train_x2 = train_x_2.sample(10)\n",
    "    sample_train_y2 = train_y.loc[sample_train_x2.index]\n",
    "    svm3 = LinearSVC(penalty = 'l1', dual = False, max_iter = 10000)\n",
    "    svm3.fit(sample_train_x2, sample_train_y2)\n",
    "    params = {'C':c_range}\n",
    "    cv2 = GridSearchCV(svm3, param_grid = params, n_jobs = -1, cv=5)\n",
    "    cv2.fit(sample_train_x2, sample_train_y2)\n",
    "    bestsvm2 = cv2.best_estimator_\n",
    "\n",
    "    while len(train_x_2) > 0:\n",
    "        svm_deci = bestsvm2.decision_function(train_x_2)\n",
    "        svm_deci = np.absolute(svm_deci)\n",
    "        svm_deci = pd.DataFrame(data = svm_deci, index = train_x_2.index)\n",
    "        svm_deci = svm_deci.sort_values(by=[0], axis=0)\n",
    "        new_sample = svm_deci.iloc[0:10]\n",
    "        indices = new_sample.index.values\n",
    "        new_x = train_x_2.loc[indices]\n",
    "        sample_train_x2 = pd.concat([sample_train_x2, new_x])\n",
    "        sample_train_y2 = train_y.loc[sample_train_x2.index]\n",
    "        train_x_2 = train_x_2.drop(index = new_x.index)\n",
    "        svm3 = LinearSVC(penalty = 'l1', dual = False, max_iter = 10000)\n",
    "        svm3.fit(sample_train_x2, sample_train_y2)\n",
    "        cv2 = GridSearchCV(svm3, param_grid = params, n_jobs = -1, cv=5)\n",
    "        cv2.fit(sample_train_x2, sample_train_y2)\n",
    "        bestsvm2 = cv2.best_estimator_\n",
    "        test_error2 = 1-bestsvm2.score(test_x, test_y)\n",
    "        testerrors2.append(test_error2)\n",
    "        length = len(sample_train_x2)\n",
    "        length_2.append(length)\n",
    "    errors_list_active.append(testerrors2)"
   ]
  },
  {
   "cell_type": "markdown",
   "id": "34f933b8",
   "metadata": {},
   "source": [
    "b(iii)"
   ]
  },
  {
   "cell_type": "code",
   "execution_count": 207,
   "id": "e87b2266",
   "metadata": {},
   "outputs": [
    {
     "data": {
      "image/png": "[encoded data removed]",
      "text/plain": [
       "<Figure size 432x288 with 1 Axes>"
      ]
     },
     "metadata": {},
     "output_type": "display_data"
    }
   ],
   "source": [
    "test_error_points = range(10, 901, 10)\n",
    "mean_pass = pd.DataFrame(errors_list).mean()\n",
    "mean_active = pd.DataFrame(errors_list_active).mean()\n",
    "plt.plot(test_error_points, mean_pass , c='r',label='Passive Learning')\n",
    "plt.plot(test_error_points, mean_active, c='b', label='Active Learning')\n",
    "plt.xlabel('training Data')\n",
    "plt.ylabel('error Rate')\n",
    "plt.legend()\n",
    "plt.show()\n"
   ]
  },
  {
   "cell_type": "markdown",
   "id": "ede13817",
   "metadata": {},
   "source": [
    "When the size of dataset is small, the active learning achieve better than passive learning. If the size is large, passive learning is better."
   ]
  },
  {
   "cell_type": "code",
   "execution_count": null,
   "id": "21a5e7c8",
   "metadata": {},
   "outputs": [],
   "source": []
  }
 ],
 "metadata": {
  "kernelspec": {
   "display_name": "Python 3 (ipykernel)",
   "language": "python",
   "name": "python3"
  },
  "language_info": {
   "codemirror_mode": {
    "name": "ipython",
    "version": 3
   },
   "file_extension": ".py",
   "mimetype": "text/x-python",
   "name": "python",
   "nbconvert_exporter": "python",
   "pygments_lexer": "ipython3",
   "version": "3.9.12"
  }
 },
 "nbformat": 4,
 "nbformat_minor": 5
}
